{
 "cells": [
  {
   "cell_type": "markdown",
   "metadata": {
    "collapsed": true
   },
   "source": [
    "[How to commit changes to a docker image](https://www.techrepublic.com/article/how-to-commit-changes-to-a-docker-image/)\n",
    "\n",
    "[SSH into a Container](http://phase2.github.io/devtools/common-tasks/ssh-into-a-container/)\n",
    "\n",
    "[Multi-GPU forward pass fails if first GPU id is not 0](https://github.com/pytorch/pytorch/issues/1280)\n",
    "\n",
    "[HOW TO INSTALL APT-UTILS](https://www.linuxcrew.com/how-to-install-apt-utils-on-ubuntu-16-04-lts/)\n",
    "\n",
    "[Max-Hailperin/Operating-Systems-and-Middleware--Supporting-Controlled-Interaction](https://github.com/Max-Hailperin/Operating-Systems-and-Middleware--Supporting-Controlled-Interaction)\n",
    "\n",
    "[Python vs Cpython](https://stackoverflow.com/questions/17130975/python-vs-cpython)\n",
    "\n",
    "[Queue.Queue vs. collections.deque](https://stackoverflow.com/questions/717148/queue-queue-vs-collections-deque)\n",
    "\n",
    "[Operating Systems and Middleware: Supporting Controlled Interaction](https://gustavus.edu/mcs/max/os-book/)\n",
    "\n",
    "[jinfagang/weibo_terminator_workflow](https://github.com/jinfagang/weibo_terminator_workflow)\n",
    "\n"
   ]
  }
 ],
 "metadata": {
  "kernelspec": {
   "display_name": "Python 3",
   "language": "python",
   "name": "python3"
  },
  "language_info": {
   "codemirror_mode": {
    "name": "ipython",
    "version": 3
   },
   "file_extension": ".py",
   "mimetype": "text/x-python",
   "name": "python",
   "nbconvert_exporter": "python",
   "pygments_lexer": "ipython3",
   "version": "3.6.2"
  }
 },
 "nbformat": 4,
 "nbformat_minor": 2
}
