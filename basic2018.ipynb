{
 "cells": [
  {
   "cell_type": "markdown",
   "metadata": {
    "collapsed": true
   },
   "source": [
    "[How to commit changes to a docker image](https://www.techrepublic.com/article/how-to-commit-changes-to-a-docker-image/)\n",
    "\n",
    "[SSH into a Container](http://phase2.github.io/devtools/common-tasks/ssh-into-a-container/)\n",
    "\n",
    "[Multi-GPU forward pass fails if first GPU id is not 0](https://github.com/pytorch/pytorch/issues/1280)\n",
    "\n",
    "[HOW TO INSTALL APT-UTILS](https://www.linuxcrew.com/how-to-install-apt-utils-on-ubuntu-16-04-lts/)\n",
    "\n"
   ]
  }
 ],
 "metadata": {
  "kernelspec": {
   "display_name": "Python 3",
   "language": "python",
   "name": "python3"
  },
  "language_info": {
   "codemirror_mode": {
    "name": "ipython",
    "version": 3
   },
   "file_extension": ".py",
   "mimetype": "text/x-python",
   "name": "python",
   "nbconvert_exporter": "python",
   "pygments_lexer": "ipython3",
   "version": "3.6.2"
  }
 },
 "nbformat": 4,
 "nbformat_minor": 2
}
